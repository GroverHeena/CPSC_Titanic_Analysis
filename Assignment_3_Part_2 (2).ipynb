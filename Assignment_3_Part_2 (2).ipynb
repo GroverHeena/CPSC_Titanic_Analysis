{
 "cells": [
  {
   "cell_type": "markdown",
   "metadata": {},
   "source": [
    "For this assignment, you will be working with the [Titanic Data Set from Kaggle](https://www.kaggle.com/c/titanic). This is a very famous data set and very often is a student's first step in Data Analytics! \n",
    "\n",
    "The Dataset has been given to you in D2L. You need to download the .csv file from your assignment folder. The above link is just for a reference story about the data. The second part of assignment 3 has 50 points.\n"
   ]
  },
  {
   "cell_type": "markdown",
   "metadata": {},
   "source": [
    "## Exercise \n",
    "1- For this assignment, you need to perform explorotary data analysis and answer at least three hypotheses based on the dataset. You may need to use your knowledge of statiscts to analyze this data.\n",
    "\n",
    "Here are three possible hypotheses that you can define for this dataset (you can define your own hypotheses as well):\n",
    "\n",
    "- Determine if the survival rate is associated to the class of passenger\n",
    "- Determine if the survival rate is associated to the gender\n",
    "- Determine the survival rate is associated to the age\n",
    "\n",
    "\n",
    "\n",
    "2- For each hypothesis, you need to make at least one plot. \n",
    "\n",
    "3- Write a summary of your findings in one page (e.g., summary statistics, plots) and submit the pdf file. Therefore, for part 2 of your assignment, you need to submit one jupyter notebook file and one pdf file.\n",
    "\n"
   ]
  },
  {
   "cell_type": "code",
   "execution_count": 5,
   "metadata": {},
   "outputs": [
    {
     "name": "stdout",
     "output_type": "stream",
     "text": [
      "<class 'pandas.core.frame.DataFrame'>\n",
      "Int64Index: 891 entries, 1 to 891\n",
      "Data columns (total 11 columns):\n",
      " #   Column    Non-Null Count  Dtype  \n",
      "---  ------    --------------  -----  \n",
      " 0   Survived  891 non-null    int64  \n",
      " 1   Pclass    891 non-null    int64  \n",
      " 2   Name      891 non-null    object \n",
      " 3   Sex       891 non-null    object \n",
      " 4   Age       714 non-null    float64\n",
      " 5   SibSp     891 non-null    int64  \n",
      " 6   Parch     891 non-null    int64  \n",
      " 7   Ticket    891 non-null    object \n",
      " 8   Fare      891 non-null    float64\n",
      " 9   Cabin     204 non-null    object \n",
      " 10  Embarked  889 non-null    object \n",
      "dtypes: float64(2), int64(4), object(5)\n",
      "memory usage: 83.5+ KB\n"
     ]
    },
    {
     "data": {
      "text/plain": [
       "Sex     Pclass\n",
       "female  1         34.611765\n",
       "        2         28.722973\n",
       "        3         21.750000\n",
       "male    1         41.281386\n",
       "        2         30.740707\n",
       "        3         26.507589\n",
       "Name: Age, dtype: float64"
      ]
     },
     "metadata": {},
     "output_type": "display_data"
    },
    {
     "name": "stdout",
     "output_type": "stream",
     "text": [
      "<class 'pandas.core.frame.DataFrame'>\n",
      "Int64Index: 891 entries, 1 to 891\n",
      "Data columns (total 11 columns):\n",
      " #   Column    Non-Null Count  Dtype  \n",
      "---  ------    --------------  -----  \n",
      " 0   Survived  891 non-null    int64  \n",
      " 1   Pclass    891 non-null    int64  \n",
      " 2   Name      891 non-null    object \n",
      " 3   Sex       891 non-null    object \n",
      " 4   Age       891 non-null    float64\n",
      " 5   SibSp     891 non-null    int64  \n",
      " 6   Parch     891 non-null    int64  \n",
      " 7   Ticket    891 non-null    object \n",
      " 8   Fare      891 non-null    float64\n",
      " 9   Cabin     204 non-null    object \n",
      " 10  Embarked  889 non-null    object \n",
      "dtypes: float64(2), int64(4), object(5)\n",
      "memory usage: 83.5+ KB\n"
     ]
    },
    {
     "data": {
      "text/plain": [
       "Sex\n",
       "female    233\n",
       "male      109\n",
       "Name: Survived, dtype: int64"
      ]
     },
     "metadata": {},
     "output_type": "display_data"
    },
    {
     "data": {
      "text/plain": [
       "Sex\n",
       "female    314\n",
       "male      577\n",
       "Name: Total, dtype: int64"
      ]
     },
     "metadata": {},
     "output_type": "display_data"
    },
    {
     "data": {
      "text/plain": [
       "<matplotlib.legend.Legend at 0x24228463c70>"
      ]
     },
     "execution_count": 5,
     "metadata": {},
     "output_type": "execute_result"
    },
    {
     "data": {
      "image/png": "[encoded data removed]",
      "text/plain": [
       "<Figure size 432x288 with 1 Axes>"
      ]
     },
     "metadata": {
      "needs_background": "light"
     },
     "output_type": "display_data"
    }
   ],
   "source": [
    "#import pandas and numby library seaborn and matplotlib\n",
    "import numpy as np\n",
    "import pandas as pd\n",
    "\n",
    "import matplotlib.pyplot as plt\n",
    "import seaborn as sns\n",
    "%matplotlib inline\n",
    "\n",
    "# read data from csv and save in dataframe. PassensgerId is to be taken as index column.\n",
    "titanic = pd.read_csv(\"titanic.csv\", index_col=[\"PassengerId\"])\n",
    "\n",
    "#check for dataframe header and info\n",
    "titanic.head()\n",
    "titanic.info()\n",
    "\n",
    "# fix missing data in age by replacing with average values in age column.\n",
    "avg_ag = titanic.groupby(['Sex','Pclass'])['Age'].mean()\n",
    "display(avg_ag)\n",
    "def rep_age(row):\n",
    "    if pd.isnull(row['Age']):\n",
    "        return avg_ag[row['Sex'], row['Pclass']]\n",
    "    else:\n",
    "        return row['Age']\n",
    "    \n",
    "titanic['Age'] = titanic.apply(rep_age, axis=1)\n",
    "\n",
    "# Check again to validate missing values\n",
    "titanic.info()\n",
    "titanic.describe()\n",
    "\n",
    "\n",
    "#test for 1st hypothesis\n",
    "survival_Class_df = titanic[['Survived', 'Pclass']]\n",
    "survival_Class_df.head()\n",
    "survival_Class_df.describe()\n",
    "\n",
    "## GROUP DATA TO CHECK SURVIVAL NUMBERS & TOTAL BY PASSENGER CLASS\n",
    "\n",
    "## calculate survived by pclass\n",
    "surv_by_pclass = survival_Class_df.groupby(['Pclass']).sum()\n",
    "ttl_by_pclass = survival_Class_df.groupby(['Pclass']).count()\n",
    "\n",
    "# total are showed as survived - changed column name Total\n",
    "ttl_by_pclass.rename(columns = {'Survived':'Total'}, inplace = True)\n",
    "\n",
    "# merge separate data into one dataframe\n",
    "survived_total_by_pclass = pd.merge(surv_by_pclass, ttl_by_pclass, left_index=True, right_index=True) # merge by index\n",
    "survived_total_by_pclass\n",
    "\n",
    "# calculate percentage survival rate\n",
    "\n",
    "per_survived = (survived_total_by_pclass['Survived'] / survived_total_by_pclass['Total']) * 100\n",
    "survived_total_by_pclass['Percentage'] = per_survived\n",
    "\n",
    "survived_total_by_pclass\n",
    "\n",
    "\n",
    "x = survived_total_by_pclass.index.values\n",
    "y = survived_total_by_pclass.Total\n",
    "z = survived_total_by_pclass.Survived\n",
    "\n",
    "pht = plt.bar(x, y)\n",
    "phs = plt.bar(x, z)\n",
    "\n",
    "plt.xticks(x, x)\n",
    "plt.xlabel('Pclass')\n",
    "plt.ylabel('Passengers')\n",
    "plt.title('Survivors by Class')\n",
    "\n",
    "\n",
    "plt.legend([pht,phs],['Died', 'Survived'])\n"
   ]
  },
  {
   "cell_type": "code",
   "execution_count": null,
   "metadata": {},
   "outputs": [],
   "source": [
    "#hypothesis 2 Determine if the survival rate is associated to the gender\n",
    "\n",
    "\n",
    "# groupby Gender\n",
    "grp_by_sex = titanic.groupby('Sex')\n",
    "\n",
    "# calculate survived by sex\n",
    "surv_by_sex = grp_by_sex['Survived'].sum()\n",
    "surv_by_sex.name = 'Survived'\n",
    "display(surv_by_sex)\n",
    "\n",
    "# calculate total by sex\n",
    "ttl_by_sex = grp_by_sex['Survived'].size()\n",
    "ttl_by_sex.name = 'Total'\n",
    "display(ttl_by_sex)\n",
    "\n",
    "# concat the separate results into one dataframe\n",
    "TotalDataset = pd.concat([surv_by_sex, ttl_by_sex], axis=1)\n",
    "TotalDataset\n",
    "\n",
    "\n",
    "per_surv = (TotalDataset['Survived'] / TotalDataset['Total']) * 100\n",
    "TotalDataset['Percentage'] = per_surv\n",
    "\n",
    "TotalDataset\n",
    "\n",
    "\n",
    "x2 = range(len(TotalDataset.index.values))\n",
    "y2 = TotalDataset.Total\n",
    "z2 = TotalDataset.Survived\n",
    "\n",
    "pht2 = plt.bar(x2, y2)\n",
    "phs2 = plt.bar(x2, z2)\n",
    "\n",
    "plt.xticks(x2, TotalDataset.index.values)\n",
    "plt.xlabel('Sex')\n",
    "plt.ylabel('Passengers')\n",
    "plt.title('Survivors by Gender')\n",
    "\n",
    "plt.legend([pht2,phs2],['Died', 'Survived'])"
   ]
  },
  {
   "cell_type": "code",
   "execution_count": 11,
   "metadata": {},
   "outputs": [
    {
     "data": {
      "image/png": "[encoded data removed]",
      "text/plain": [
       "<Figure size 432x288 with 1 Axes>"
      ]
     },
     "metadata": {
      "needs_background": "light"
     },
     "output_type": "display_data"
    }
   ],
   "source": [
    "#hypothesis 3 Determine the survival rate is associated to the age\n",
    "\n",
    "plt.hist(titanic.Age)\n",
    "plt.title('Age wise Analysis')\n",
    "plt.xlabel('Age')\n",
    "plt.ylabel('count')\n",
    "plt.show()"
   ]
  },
  {
   "cell_type": "markdown",
   "metadata": {},
   "source": []
  },
  {
   "cell_type": "code",
   "execution_count": 13,
   "metadata": {},
   "outputs": [
    {
     "data": {
      "image/png": "[encoded data removed]",
      "text/plain": [
       "<Figure size 432x288 with 1 Axes>"
      ]
     },
     "metadata": {
      "needs_background": "light"
     },
     "output_type": "display_data"
    }
   ],
   "source": [
    "sns.boxplot(x='Survived', y='Age', data=titanic)\n",
    "plt.show()"
   ]
  },
  {
   "cell_type": "markdown",
   "metadata": {},
   "source": [
    "### Github & D2L Submissions\n",
    "Please create a **public** github repo and submit your answers on both **public github** and on **D2L**. Please include the link to your github repo in your submission. \n",
    "\n",
    "**Please follow the below guidelines regarding your github repository:**\n",
    "\n",
    "The folder structure of your github account should be as followed:\n",
    "                    \n",
    "    ├── src                     # Source files (your python code)\n",
    "    ├── data                    # Data related to the project (titanic.csv)\n",
    "    ├── result                  # Result of the project (e.g., plots, reports)\n",
    "    └── doc                     # Documentation files (additional documentations)\n",
    "\n",
    "You must add **README.md** file to the root repository of your GitHub and explain all the directories in your GitHub repo in README file. Please look at this link as a [reference](https://help.github.com/en/github/creating-cloning-and-archiving-repositories/about-readmes) on how to write the README file.\n",
    "\n",
    "Here is another great resource for organizing your folder and code on github. Reso\n",
    "\n",
    "This will be your first end to end data analysis project. For this assignment, you will be graded on you overall analysis, your final report and the structure of your github repo. "
   ]
  },
  {
   "cell_type": "code",
   "execution_count": null,
   "metadata": {},
   "outputs": [],
   "source": []
  }
 ],
 "metadata": {
  "anaconda-cloud": {},
  "kernelspec": {
   "display_name": "Python 3",
   "language": "python",
   "name": "python3"
  },
  "language_info": {
   "codemirror_mode": {
    "name": "ipython",
    "version": 3
   },
   "file_extension": ".py",
   "mimetype": "text/x-python",
   "name": "python",
   "nbconvert_exporter": "python",
   "pygments_lexer": "ipython3",
   "version": "3.8.8"
  }
 },
 "nbformat": 4,
 "nbformat_minor": 1
}
